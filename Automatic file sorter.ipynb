{
 "cells": [
  {
   "cell_type": "markdown",
   "id": "a7d32fd2-e19f-4c5a-8e45-8fa56d617458",
   "metadata": {},
   "source": [
    "AUTOMATIC FILE SORTER IN FILE EXPLORER"
   ]
  },
  {
   "cell_type": "code",
   "execution_count": 28,
   "id": "dc47137e-de09-430d-bf8b-5fdb2fba982f",
   "metadata": {},
   "outputs": [],
   "source": [
    "import os, shutil"
   ]
  },
  {
   "cell_type": "code",
   "execution_count": 34,
   "id": "b40503f0-79a1-4fef-bb84-4029f1ebfea1",
   "metadata": {},
   "outputs": [],
   "source": [
    "path = r\"C:/Users/User/Desktop/Python/Automated file sorter/\""
   ]
  },
  {
   "cell_type": "code",
   "execution_count": 35,
   "id": "7db64b75-ff90-4d37-bfee-4f270949ac3a",
   "metadata": {},
   "outputs": [],
   "source": [
    "file_name = os.listdir(path)"
   ]
  },
  {
   "cell_type": "code",
   "execution_count": 36,
   "id": "fc0ed9dd-76e4-496d-b558-0b5c1ee0ed02",
   "metadata": {},
   "outputs": [],
   "source": [
    "folder_names = ['csv files','image files','text files']\n",
    "\n",
    "for loop in range(0,3):\n",
    "    if not os.path.exists(path +folder_names[loop]):\n",
    "        #print(path +folder_names[loop])\n",
    "        os.makedirs((path +folder_names[loop]))\n",
    "for file in file_name:\n",
    "    if\".csv\" in file and not os.path.exists(path +\"csv files/\"+ file):\n",
    "        shutil.move(path +file,path +\"csv files/\"+ file)\n",
    "    elif\".png\" in file and not os.path.exists(path +\"image files/\"+ file):\n",
    "        shutil.move(path +file,path +\"image files/\"+ file)\n",
    "    elif\".txt\" in file and not os.path.exists(path +\"text files/\"+ file):\n",
    "        shutil.move(path +file,path +\"text files/\"+ file)\n",
    "    "
   ]
  }
 ],
 "metadata": {
  "kernelspec": {
   "display_name": "Python [conda env:base] *",
   "language": "python",
   "name": "conda-base-py"
  },
  "language_info": {
   "codemirror_mode": {
    "name": "ipython",
    "version": 3
   },
   "file_extension": ".py",
   "mimetype": "text/x-python",
   "name": "python",
   "nbconvert_exporter": "python",
   "pygments_lexer": "ipython3",
   "version": "3.12.7"
  }
 },
 "nbformat": 4,
 "nbformat_minor": 5
}
